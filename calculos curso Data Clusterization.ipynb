{
 "cells": [
  {
   "cell_type": "code",
   "execution_count": 18,
   "metadata": {},
   "outputs": [],
   "source": [
    "import numpy as np\n",
    "import pandas as pd\n",
    "\n",
    "data = np.array(([6.9,3.1],\n",
    "                [6.7,3.1],\n",
    "                [6.9,3.1],\n",
    "                [5.8,2.7],\n",
    "                [6.8,3.2]))"
   ]
  },
  {
   "cell_type": "code",
   "execution_count": 19,
   "metadata": {},
   "outputs": [
    {
     "data": {
      "text/html": [
       "<div>\n",
       "<style scoped>\n",
       "    .dataframe tbody tr th:only-of-type {\n",
       "        vertical-align: middle;\n",
       "    }\n",
       "\n",
       "    .dataframe tbody tr th {\n",
       "        vertical-align: top;\n",
       "    }\n",
       "\n",
       "    .dataframe thead th {\n",
       "        text-align: right;\n",
       "    }\n",
       "</style>\n",
       "<table border=\"1\" class=\"dataframe\">\n",
       "  <thead>\n",
       "    <tr style=\"text-align: right;\">\n",
       "      <th></th>\n",
       "      <th>0</th>\n",
       "      <th>1</th>\n",
       "    </tr>\n",
       "  </thead>\n",
       "  <tbody>\n",
       "    <tr>\n",
       "      <th>0</th>\n",
       "      <td>6.9</td>\n",
       "      <td>3.1</td>\n",
       "    </tr>\n",
       "    <tr>\n",
       "      <th>1</th>\n",
       "      <td>6.7</td>\n",
       "      <td>3.1</td>\n",
       "    </tr>\n",
       "    <tr>\n",
       "      <th>2</th>\n",
       "      <td>6.9</td>\n",
       "      <td>3.1</td>\n",
       "    </tr>\n",
       "    <tr>\n",
       "      <th>3</th>\n",
       "      <td>5.8</td>\n",
       "      <td>2.7</td>\n",
       "    </tr>\n",
       "    <tr>\n",
       "      <th>4</th>\n",
       "      <td>6.8</td>\n",
       "      <td>3.2</td>\n",
       "    </tr>\n",
       "  </tbody>\n",
       "</table>\n",
       "</div>"
      ],
      "text/plain": [
       "     0    1\n",
       "0  6.9  3.1\n",
       "1  6.7  3.1\n",
       "2  6.9  3.1\n",
       "3  5.8  2.7\n",
       "4  6.8  3.2"
      ]
     },
     "execution_count": 19,
     "metadata": {},
     "output_type": "execute_result"
    }
   ],
   "source": [
    "data = pd.DataFrame(data)\n",
    "data"
   ]
  },
  {
   "cell_type": "code",
   "execution_count": 20,
   "metadata": {},
   "outputs": [
    {
     "data": {
      "text/plain": [
       "0    6.62\n",
       "1    3.04\n",
       "dtype: float64"
      ]
     },
     "execution_count": 20,
     "metadata": {},
     "output_type": "execute_result"
    }
   ],
   "source": [
    "means = data.mean()\n",
    "means"
   ]
  },
  {
   "cell_type": "code",
   "execution_count": 21,
   "metadata": {},
   "outputs": [],
   "source": [
    "num = ((data[0]-means[0])*(data[1]-means[1])).sum()"
   ]
  },
  {
   "cell_type": "code",
   "execution_count": 22,
   "metadata": {},
   "outputs": [],
   "source": [
    "den = np.sqrt((data[0]-means[0]).pow(2).sum()*(data[1]-means[1]).pow(2).sum())"
   ]
  },
  {
   "cell_type": "code",
   "execution_count": 23,
   "metadata": {},
   "outputs": [
    {
     "data": {
      "text/plain": [
       "0.9525646095858076"
      ]
     },
     "execution_count": 23,
     "metadata": {},
     "output_type": "execute_result"
    }
   ],
   "source": [
    "num/den"
   ]
  },
  {
   "cell_type": "code",
   "execution_count": 71,
   "metadata": {},
   "outputs": [
    {
     "data": {
      "text/plain": [
       "0.6172133998483676"
      ]
     },
     "execution_count": 71,
     "metadata": {},
     "output_type": "execute_result"
    }
   ],
   "source": [
    "4/np.sqrt(6*7)"
   ]
  },
  {
   "cell_type": "code",
   "execution_count": 72,
   "metadata": {},
   "outputs": [],
   "source": [
    "data2 = pd.DataFrame( data = [[4.9,3.0,1.4,0.2],[5.6,2.5,3.9,1.1]])"
   ]
  },
  {
   "cell_type": "code",
   "execution_count": 78,
   "metadata": {},
   "outputs": [
    {
     "data": {
      "text/plain": [
       "2.792848008753788"
      ]
     },
     "execution_count": 78,
     "metadata": {},
     "output_type": "execute_result"
    }
   ],
   "source": [
    "np.sqrt((data2.iloc[0]-data2.iloc[1]).pow(2).sum())"
   ]
  },
  {
   "cell_type": "code",
   "execution_count": 8,
   "metadata": {},
   "outputs": [],
   "source": [
    "Q1 = [0.8, 0.7]\n",
    "Q2 = [6, 8]\n",
    "Q3 = [-0.8, -0.6]\n",
    "Q4 = [32, 24]\n",
    "\n",
    "\n",
    "Q = [0.8, 0.6]"
   ]
  },
  {
   "cell_type": "code",
   "execution_count": 9,
   "metadata": {},
   "outputs": [
    {
     "name": "stdout",
     "output_type": "stream",
     "text": [
      "0.9971641204866131 0.9600000000000002 -1.0 1.0\n"
     ]
    }
   ],
   "source": [
    "print(np.multiply(Q1,Q).sum()/(np.linalg.norm(Q1)*np.linalg.norm(Q)),\n",
    "np.multiply(Q2,Q).sum()/(np.linalg.norm(Q2)*np.linalg.norm(Q)),\n",
    "np.multiply(Q3,Q).sum()/(np.linalg.norm(Q3)*np.linalg.norm(Q)),\n",
    "np.multiply(Q4,Q).sum()/(np.linalg.norm(Q4)*np.linalg.norm(Q)))"
   ]
  },
  {
   "cell_type": "code",
   "execution_count": 11,
   "metadata": {},
   "outputs": [
    {
     "data": {
      "text/plain": [
       "1.0"
      ]
     },
     "execution_count": 11,
     "metadata": {},
     "output_type": "execute_result"
    }
   ],
   "source": [
    "np.linalg.norm(Q)"
   ]
  },
  {
   "cell_type": "code",
   "execution_count": 90,
   "metadata": {},
   "outputs": [
    {
     "data": {
      "text/plain": [
       "10.0"
      ]
     },
     "execution_count": 90,
     "metadata": {},
     "output_type": "execute_result"
    }
   ],
   "source": []
  },
  {
   "cell_type": "markdown",
   "metadata": {},
   "source": [
    "# Lesson 3: Implementing K-means"
   ]
  },
  {
   "cell_type": "code",
   "execution_count": 1,
   "metadata": {},
   "outputs": [],
   "source": [
    "import pandas as pd"
   ]
  },
  {
   "cell_type": "code",
   "execution_count": 2,
   "metadata": {},
   "outputs": [],
   "source": [
    "data = pd.read_csv('places.txt', sep=\",\", header=None)\n",
    "#data.columns = [\"a\", \"b\", \"c\", \"etc.\"]"
   ]
  },
  {
   "cell_type": "code",
   "execution_count": 4,
   "metadata": {},
   "outputs": [
    {
     "data": {
      "text/html": [
       "<div>\n",
       "<style scoped>\n",
       "    .dataframe tbody tr th:only-of-type {\n",
       "        vertical-align: middle;\n",
       "    }\n",
       "\n",
       "    .dataframe tbody tr th {\n",
       "        vertical-align: top;\n",
       "    }\n",
       "\n",
       "    .dataframe thead th {\n",
       "        text-align: right;\n",
       "    }\n",
       "</style>\n",
       "<table border=\"1\" class=\"dataframe\">\n",
       "  <thead>\n",
       "    <tr style=\"text-align: right;\">\n",
       "      <th></th>\n",
       "      <th>0</th>\n",
       "      <th>1</th>\n",
       "    </tr>\n",
       "  </thead>\n",
       "  <tbody>\n",
       "    <tr>\n",
       "      <th>0</th>\n",
       "      <td>-112.070792</td>\n",
       "      <td>33.451625</td>\n",
       "    </tr>\n",
       "    <tr>\n",
       "      <th>1</th>\n",
       "      <td>-112.065542</td>\n",
       "      <td>33.449298</td>\n",
       "    </tr>\n",
       "    <tr>\n",
       "      <th>2</th>\n",
       "      <td>-112.073931</td>\n",
       "      <td>33.456491</td>\n",
       "    </tr>\n",
       "    <tr>\n",
       "      <th>3</th>\n",
       "      <td>-112.074866</td>\n",
       "      <td>33.470116</td>\n",
       "    </tr>\n",
       "    <tr>\n",
       "      <th>4</th>\n",
       "      <td>-80.525690</td>\n",
       "      <td>43.477099</td>\n",
       "    </tr>\n",
       "  </tbody>\n",
       "</table>\n",
       "</div>"
      ],
      "text/plain": [
       "            0          1\n",
       "0 -112.070792  33.451625\n",
       "1 -112.065542  33.449298\n",
       "2 -112.073931  33.456491\n",
       "3 -112.074866  33.470116\n",
       "4  -80.525690  43.477099"
      ]
     },
     "execution_count": 4,
     "metadata": {},
     "output_type": "execute_result"
    }
   ],
   "source": [
    "data.head()"
   ]
  },
  {
   "cell_type": "code",
   "execution_count": 6,
   "metadata": {},
   "outputs": [
    {
     "data": {
      "text/plain": [
       "array([1, 1, 1, 1, 0, 0, 2, 1, 1, 2, 1, 2, 0, 1, 2, 2, 2, 1, 2, 0, 0, 0,\n",
       "       0, 2, 1, 0, 1, 0, 1, 1, 0, 2, 1, 1, 1, 2, 0, 1, 0, 2, 2, 2, 2, 2,\n",
       "       2, 0, 1, 2, 1, 1, 0, 2, 1, 2, 0, 2, 1, 2, 0, 2, 1, 0, 2, 1, 0, 2,\n",
       "       2, 1, 0, 2, 0, 1, 2, 0, 1, 1, 1, 2, 0, 1, 1, 2, 1, 0, 1, 1, 0, 1,\n",
       "       0, 1, 0, 0, 1, 0, 0, 0, 2, 2, 1, 1, 1, 0, 1, 1, 2, 2, 1, 0, 1, 1,\n",
       "       0, 2, 1, 0, 1, 1, 0, 1, 0, 0, 2, 2, 1, 0, 2, 0, 2, 0, 2, 0, 2, 0,\n",
       "       2, 1, 1, 0, 0, 1, 1, 0, 2, 2, 1, 0, 2, 2, 2, 1, 2, 2, 0, 2, 2, 0,\n",
       "       0, 0, 0, 0, 2, 2, 0, 1, 0, 1, 2, 0, 0, 0, 0, 0, 0, 1, 1, 2, 2, 1,\n",
       "       0, 2, 2, 0, 1, 0, 2, 2, 0, 2, 2, 0, 1, 0, 2, 2, 1, 1, 1, 2, 1, 1,\n",
       "       2, 1, 0, 1, 2, 1, 0, 2, 1, 0, 2, 2, 0, 2, 2, 1, 0, 0, 1, 0, 1, 0,\n",
       "       1, 0, 0, 0, 2, 2, 2, 1, 2, 1, 1, 2, 2, 0, 0, 2, 1, 2, 1, 2, 1, 1,\n",
       "       2, 2, 2, 2, 2, 2, 2, 1, 2, 2, 0, 0, 0, 0, 2, 1, 2, 1, 0, 1, 2, 0,\n",
       "       0, 1, 0, 1, 0, 1, 0, 2, 1, 2, 0, 0, 1, 1, 0, 0, 2, 2, 2, 2, 0, 0,\n",
       "       2, 0, 0, 1, 0, 1, 2, 1, 0, 1, 1, 1, 0, 1], dtype=int32)"
      ]
     },
     "execution_count": 6,
     "metadata": {},
     "output_type": "execute_result"
    }
   ],
   "source": [
    "from sklearn.cluster import KMeans\n",
    "X = data.values\n",
    "kmeans = KMeans(n_clusters=3).fit(X)\n",
    "kmeans.labels_\n",
    "#kmeans.cluster_centers_"
   ]
  },
  {
   "cell_type": "code",
   "execution_count": 14,
   "metadata": {},
   "outputs": [],
   "source": [
    "import numpy as np\n",
    "np.savetxt(r'/home/joaco/Escritorio/Curso Cluster Analysis in Data Mining/clusters.txt', pd.DataFrame(kmeans.labels_).reset_index().values, fmt='%d')"
   ]
  },
  {
   "cell_type": "code",
   "execution_count": null,
   "metadata": {},
   "outputs": [],
   "source": []
  }
 ],
 "metadata": {
  "kernelspec": {
   "display_name": "Python 3",
   "language": "python",
   "name": "python3"
  },
  "language_info": {
   "codemirror_mode": {
    "name": "ipython",
    "version": 3
   },
   "file_extension": ".py",
   "mimetype": "text/x-python",
   "name": "python",
   "nbconvert_exporter": "python",
   "pygments_lexer": "ipython3",
   "version": "3.6.5"
  }
 },
 "nbformat": 4,
 "nbformat_minor": 2
}
